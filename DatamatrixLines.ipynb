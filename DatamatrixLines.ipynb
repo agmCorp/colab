{
  "nbformat": 4,
  "nbformat_minor": 0,
  "metadata": {
    "colab": {
      "provenance": [],
      "authorship_tag": "ABX9TyONYqqn8cDHRAvx7NoMZGj6",
      "include_colab_link": true
    },
    "kernelspec": {
      "name": "python3",
      "display_name": "Python 3"
    },
    "language_info": {
      "name": "python"
    }
  },
  "cells": [
    {
      "cell_type": "markdown",
      "metadata": {
        "id": "view-in-github",
        "colab_type": "text"
      },
      "source": [
        "<a href=\"https://colab.research.google.com/github/agmCorp/colab/blob/main/DatamatrixLines.ipynb\" target=\"_parent\"><img src=\"https://colab.research.google.com/assets/colab-badge.svg\" alt=\"Open In Colab\"/></a>"
      ]
    },
    {
      "cell_type": "code",
      "execution_count": 1,
      "metadata": {
        "colab": {
          "base_uri": "https://localhost:8080/"
        },
        "id": "FkurQwBuLYkK",
        "outputId": "920b9483-3efd-411e-f236-36f918f2bfe4"
      },
      "outputs": [
        {
          "output_type": "stream",
          "name": "stdout",
          "text": [
            "Requirement already satisfied: opencv-python in /usr/local/lib/python3.12/dist-packages (4.12.0.88)\n",
            "Requirement already satisfied: numpy in /usr/local/lib/python3.12/dist-packages (2.0.2)\n"
          ]
        }
      ],
      "source": [
        "pip install opencv-python numpy\n"
      ]
    },
    {
      "cell_type": "markdown",
      "source": [
        "--percentile 96 (más sensible) o --percentile 98 (más estricto)\n",
        "\n",
        "--min-band 2 --max-band 40 si la raya puede ser más gruesa/delgada\n",
        "\n",
        "--alpha 0.5..0.8 para equilibrar brillo vs. uniformidad."
      ],
      "metadata": {
        "id": "j4dQ_3r6LjJN"
      }
    },
    {
      "cell_type": "code",
      "source": [
        "# single_image_white_gap.py\n",
        "# Detecta línas blancas en código de barras\n",
        "\n",
        "import cv2\n",
        "import numpy as np\n",
        "from pathlib import Path\n",
        "\n",
        "# ------------------------------\n",
        "# Núcleo: detección por perfil 1D\n",
        "# ------------------------------\n",
        "def detect_horizontal_white_gaps(\n",
        "    gray: np.ndarray,\n",
        "    alpha: float = 0.6,          # pondera cuánto penaliza la variación horizontal (std)\n",
        "    min_band_px: int = 2,        # grosor mínimo aceptado (px)\n",
        "    max_band_px: int = 30,       # grosor máximo aceptado (px)\n",
        "    percentile_thr: float = 97.0 # umbral automático por percentil del score\n",
        "):\n",
        "    \"\"\"\n",
        "    Retorna:\n",
        "      - bands: lista de tuplas (y0, y1) inclusive con las bandas detectadas\n",
        "      - score_smooth: score por fila suavizado (vector 1D)\n",
        "      - thr: umbral usado\n",
        "    \"\"\"\n",
        "    # Normaliza a [0,1]\n",
        "    g = gray.astype(np.float32)\n",
        "    if g.max() > 1.0:\n",
        "        g /= 255.0\n",
        "\n",
        "    # Suaviza para reducir ruido\n",
        "    g_blur = cv2.GaussianBlur(g, (5, 5), 0)\n",
        "\n",
        "    # Promedio y desviación por fila (a lo largo de columnas)\n",
        "    row_mean = g_blur.mean(axis=1)\n",
        "    row_std  = g_blur.std(axis=1)\n",
        "\n",
        "    # Filas brillantes y uniformes => score alto\n",
        "    score = row_mean - alpha * row_std\n",
        "\n",
        "    # Suaviza perfil 1D para evitar picos espurios\n",
        "    k = 9\n",
        "    kernel = np.ones(k, dtype=np.float32) / k\n",
        "    score_smooth = np.convolve(score, kernel, mode=\"same\")\n",
        "\n",
        "    # Umbral por percentil\n",
        "    thr = np.percentile(score_smooth, percentile_thr)\n",
        "    mask = score_smooth >= thr\n",
        "\n",
        "    # Agrupa filas contiguas positivas en bandas\n",
        "    bands = []\n",
        "    in_band = False\n",
        "    start = 0\n",
        "    for i, val in enumerate(mask):\n",
        "        if val and not in_band:\n",
        "            in_band = True\n",
        "            start = i\n",
        "        elif not val and in_band:\n",
        "            in_band = False\n",
        "            end = i - 1\n",
        "            if min_band_px <= (end - start + 1) <= max_band_px:\n",
        "                bands.append((start, end))\n",
        "    if in_band:\n",
        "        end = len(mask) - 1\n",
        "        if min_band_px <= (end - start + 1) <= max_band_px:\n",
        "            bands.append((start, end))\n",
        "\n",
        "    return bands, score_smooth, thr\n",
        "\n",
        "\n",
        "def main():\n",
        "    # Carga única de \"sampleImage.png\" desde el cwd\n",
        "    img_path = Path(\"/content/sample_data/conaprole4.png\")\n",
        "    img = cv2.imread(str(img_path))\n",
        "    if img is None:\n",
        "        raise FileNotFoundError(f\"No se pudo leer {img_path.resolve()}\")\n",
        "\n",
        "    gray = cv2.cvtColor(img, cv2.COLOR_BGR2GRAY)\n",
        "\n",
        "    # Detecta bandas\n",
        "    bands, _, _ = detect_horizontal_white_gaps(\n",
        "        gray,\n",
        "        alpha=0.6,           # ajustar según dataset\n",
        "        min_band_px=2,\n",
        "        max_band_px=30,\n",
        "        percentile_thr=97.0, # 96 => más sensible, 98 => más estricto\n",
        "    )\n",
        "\n",
        "    # Anota la imagen (opcional) y guarda\n",
        "    annot = img.copy()\n",
        "    for (y0, y1) in bands:\n",
        "        cv2.rectangle(annot, (0, y0), (annot.shape[1] - 1, y1), (255, 0, 0), 2)\n",
        "\n",
        "    out_path = Path(\"sampleImage_annot.png\")\n",
        "    cv2.imwrite(str(out_path), annot)\n",
        "\n",
        "    # Reporte mínimo por consola\n",
        "    if bands:\n",
        "        print(f\"Detected {len(bands)} horizontal white band(s): {bands}\")\n",
        "    else:\n",
        "        print(\"No horizontal white bands detected.\")\n",
        "    print(f\"Annotated image saved to: {out_path.resolve()}\")\n",
        "\n",
        "\n",
        "if __name__ == \"__main__\":\n",
        "    main()\n"
      ],
      "metadata": {
        "colab": {
          "base_uri": "https://localhost:8080/"
        },
        "id": "WbLLcoMZLk-9",
        "outputId": "bc590243-23be-4ce5-9918-96aabab18ef6"
      },
      "execution_count": 19,
      "outputs": [
        {
          "output_type": "stream",
          "name": "stdout",
          "text": [
            "Detected 2 horizontal white band(s): [(95, 96), (282, 288)]\n",
            "Annotated image saved to: /content/sampleImage_annot.png\n"
          ]
        }
      ]
    },
    {
      "cell_type": "code",
      "source": [
        "# single_image_white_gap_ratio.py\n",
        "# Detecta línas blancas en código de barras\n",
        "# Funciona mejor\n",
        "\n",
        "import cv2\n",
        "import numpy as np\n",
        "from pathlib import Path\n",
        "\n",
        "def detect_white_stripes_ratio(\n",
        "    gray,\n",
        "    t_white: int = 220,     # umbral de \"blanco\" (0–255). Bajalo si tu imagen es más gris.\n",
        "    ratio_thr: float = 0.30,# porcentaje mínimo de píxeles blancos en la fila (0–1)\n",
        "    min_h: int = 1,         # grosor mínimo de la raya (px)\n",
        "    max_h: int = 20,        # grosor máximo de la raya (px)\n",
        "    smooth_k: int = 3       # tamaño de suavizado del perfil 1D (en filas)\n",
        "):\n",
        "    \"\"\"Devuelve bandas [(y0, y1)] donde la fila es mayormente blanca de forma contigua.\"\"\"\n",
        "    g = gray.astype(np.uint8)\n",
        "\n",
        "    # Porcentaje de píxeles muy blancos por fila\n",
        "    white_ratio = (g >= t_white).mean(axis=1).astype(np.float32)\n",
        "\n",
        "    # Suaviza el perfil para evitar falsos positivos aislados\n",
        "    if smooth_k > 1:\n",
        "        k = np.ones(smooth_k, np.float32) / smooth_k\n",
        "        white_ratio = np.convolve(white_ratio, k, mode=\"same\")\n",
        "\n",
        "    # Filas candidatas\n",
        "    mask = white_ratio >= ratio_thr\n",
        "\n",
        "    # Agrupa filas contiguas en bandas\n",
        "    bands = []\n",
        "    in_band = False\n",
        "    start = 0\n",
        "    for i, val in enumerate(mask):\n",
        "        if val and not in_band:\n",
        "            in_band = True\n",
        "            start = i\n",
        "        elif not val and in_band:\n",
        "            in_band = False\n",
        "            end = i - 1\n",
        "            if min_h <= (end - start + 1) <= max_h:\n",
        "                bands.append((start, end))\n",
        "    if in_band:\n",
        "        end = len(mask) - 1\n",
        "        if min_h <= (end - start + 1) <= max_h:\n",
        "            bands.append((start, end))\n",
        "\n",
        "    return bands\n",
        "\n",
        "def main():\n",
        "    img_path = Path(\"/content/sample_data/conaprole4.png\")  # tu archivo\n",
        "    img = cv2.imread(str(img_path))\n",
        "    if img is None:\n",
        "        raise FileNotFoundError(f\"No se pudo leer {img_path.resolve()}\")\n",
        "\n",
        "    gray = cv2.cvtColor(img, cv2.COLOR_BGR2GRAY)\n",
        "\n",
        "    # Detecta la(s) raya(s) blanca(s) horizontales\n",
        "    bands = detect_white_stripes_ratio(\n",
        "        gray,\n",
        "        t_white=220,     # subir a 230–240 si hay mucho gris claro; bajar a 200 si la iluminación es baja\n",
        "        ratio_thr=0.30,  # si no detecta, probá 0.25; si detecta ruido, subí a 0.35–0.45\n",
        "        min_h=1,\n",
        "        max_h=20,\n",
        "        smooth_k=3\n",
        "    )\n",
        "\n",
        "    # Anota y guarda\n",
        "    annot = img.copy()\n",
        "    for (y0, y1) in bands:\n",
        "        cv2.rectangle(annot, (0, y0), (annot.shape[1]-1, y1), (255, 0, 0), 2)\n",
        "\n",
        "    out_path = Path(\"sampleImage_annot.png\")\n",
        "    cv2.imwrite(str(out_path), annot)\n",
        "\n",
        "    print(f\"Bands: {bands}\")\n",
        "    print(f\"Annotated saved to: {out_path.resolve()}\")\n",
        "\n",
        "if __name__ == \"__main__\":\n",
        "    main()\n"
      ],
      "metadata": {
        "colab": {
          "base_uri": "https://localhost:8080/"
        },
        "id": "WTaSIOIsN1pL",
        "outputId": "b609681a-446e-4ac7-aea2-6a795b7d5cc7"
      },
      "execution_count": 18,
      "outputs": [
        {
          "output_type": "stream",
          "name": "stdout",
          "text": [
            "Bands: []\n",
            "Annotated saved to: /content/sampleImage_annot.png\n"
          ]
        }
      ]
    }
  ]
}