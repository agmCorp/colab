{
  "nbformat": 4,
  "nbformat_minor": 0,
  "metadata": {
    "colab": {
      "provenance": [],
      "authorship_tag": "ABX9TyO/MhALFwBIv/qLLgPQ/TzT",
      "include_colab_link": true
    },
    "kernelspec": {
      "name": "python3",
      "display_name": "Python 3"
    },
    "language_info": {
      "name": "python"
    }
  },
  "cells": [
    {
      "cell_type": "markdown",
      "metadata": {
        "id": "view-in-github",
        "colab_type": "text"
      },
      "source": [
        "<a href=\"https://colab.research.google.com/github/agmCorp/colab/blob/main/gif_frames.ipynb\" target=\"_parent\"><img src=\"https://colab.research.google.com/assets/colab-badge.svg\" alt=\"Open In Colab\"/></a>"
      ]
    },
    {
      "cell_type": "code",
      "execution_count": null,
      "metadata": {
        "id": "4_4TKJ2Lus-Z"
      },
      "outputs": [],
      "source": [
        "from PIL import Image\n",
        "import os\n",
        "\n",
        "# Ruta al GIF animado\n",
        "gif_path = \"/content/amazonas.gif\"\n",
        "\n",
        "# Carpeta de salida para los fotogramas\n",
        "output_folder = \"/content/frames\"\n",
        "os.makedirs(output_folder, exist_ok=True)\n",
        "\n",
        "# Abrir el GIF\n",
        "with Image.open(gif_path) as im:\n",
        "    for i in range(im.n_frames):\n",
        "        im.seek(i)\n",
        "        frame = im.convert(\"RGBA\")  # Convertir para preservar transparencia si la hay\n",
        "        frame.save(f\"{output_folder}/frame_{i:03}.png\")  # Guarda como PNG numerado\n"
      ]
    }
  ]
}