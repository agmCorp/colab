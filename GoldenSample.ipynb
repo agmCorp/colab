{
  "nbformat": 4,
  "nbformat_minor": 0,
  "metadata": {
    "colab": {
      "provenance": [],
      "authorship_tag": "ABX9TyNjNKUvUFcWEjhCyDNf5E/L",
      "include_colab_link": true
    },
    "kernelspec": {
      "name": "python3",
      "display_name": "Python 3"
    },
    "language_info": {
      "name": "python"
    }
  },
  "cells": [
    {
      "cell_type": "markdown",
      "metadata": {
        "id": "view-in-github",
        "colab_type": "text"
      },
      "source": [
        "<a href=\"https://colab.research.google.com/github/agmCorp/colab/blob/main/GoldenSample.ipynb\" target=\"_parent\"><img src=\"https://colab.research.google.com/assets/colab-badge.svg\" alt=\"Open In Colab\"/></a>"
      ]
    },
    {
      "cell_type": "code",
      "execution_count": 1,
      "metadata": {
        "colab": {
          "base_uri": "https://localhost:8080/"
        },
        "id": "JkACuYBeAflq",
        "outputId": "86468100-b3ad-4b5f-c802-1b5c414d2972"
      },
      "outputs": [
        {
          "output_type": "stream",
          "name": "stderr",
          "text": [
            "/usr/local/lib/python3.12/dist-packages/torchvision/models/_utils.py:208: UserWarning: The parameter 'pretrained' is deprecated since 0.13 and may be removed in the future, please use 'weights' instead.\n",
            "  warnings.warn(\n",
            "/usr/local/lib/python3.12/dist-packages/torchvision/models/_utils.py:223: UserWarning: Arguments other than a weight enum or `None` for 'weights' are deprecated since 0.13 and may be removed in the future. The current behavior is equivalent to passing `weights=ResNet50_Weights.IMAGENET1K_V1`. You can also use `weights=ResNet50_Weights.DEFAULT` to get the most up-to-date weights.\n",
            "  warnings.warn(msg)\n"
          ]
        },
        {
          "output_type": "stream",
          "name": "stdout",
          "text": [
            "Downloading: \"https://download.pytorch.org/models/resnet50-0676ba61.pth\" to /root/.cache/torch/hub/checkpoints/resnet50-0676ba61.pth\n"
          ]
        },
        {
          "output_type": "stream",
          "name": "stderr",
          "text": [
            "100%|██████████| 97.8M/97.8M [00:00<00:00, 162MB/s]\n"
          ]
        }
      ],
      "source": [
        "import torch\n",
        "import torch.nn as nn\n",
        "from torchvision import models, transforms\n",
        "from PIL import Image\n",
        "import numpy as np\n",
        "\n",
        "# 1. Preprocesamiento de imágenes\n",
        "preprocess = transforms.Compose([\n",
        "    transforms.Resize((224, 224)),   # Redimensionar a tamaño que espera ResNet\n",
        "    transforms.ToTensor(),           # Convertir a tensor\n",
        "    transforms.Normalize(            # Normalizar con los valores de ImageNet\n",
        "        mean=[0.485, 0.456, 0.406],\n",
        "        std=[0.229, 0.224, 0.225]\n",
        "    )\n",
        "])\n",
        "\n",
        "def load_image(path):\n",
        "    img = Image.open(path).convert(\"RGB\")\n",
        "    return preprocess(img).unsqueeze(0)  # Añadir dimensión batch\n",
        "\n",
        "# 2. Cargar ResNet50 preentrenada en ImageNet\n",
        "model = models.resnet50(pretrained=True)\n",
        "# Quitar la capa final de clasificación (nos quedamos con los embeddings de 2048 dims)\n",
        "model = nn.Sequential(*list(model.children())[:-1])\n",
        "model.eval()\n",
        "\n",
        "# 3. Función para extraer embedding\n",
        "def get_embedding(img_tensor):\n",
        "    with torch.no_grad():\n",
        "        embedding = model(img_tensor)\n",
        "    return embedding.squeeze().numpy()  # Devolver como vector 1D\n",
        "\n",
        "# 4. Calcular similitud coseno\n",
        "def cosine_similarity(vec1, vec2):\n",
        "    dot = np.dot(vec1, vec2)\n",
        "    norm1 = np.linalg.norm(vec1)\n",
        "    norm2 = np.linalg.norm(vec2)\n",
        "    return dot / (norm1 * norm2)\n",
        "\n",
        "\n"
      ]
    },
    {
      "cell_type": "code",
      "source": [
        "# 5. Ejemplo de uso\n",
        "img1 = load_image(\"/content/sample_data/samplePicture.png\")  # Caja de referencia (Golden)\n",
        "img2 = load_image(\"/content/wrong2.png\")    # Caja real tomada en línea\n",
        "\n",
        "emb1 = get_embedding(img1)\n",
        "emb2 = get_embedding(img2)\n",
        "\n",
        "similarity = cosine_similarity(emb1, emb2)\n",
        "print(f\"Similitud coseno: {similarity:.4f}\")\n",
        "\n",
        "# Ejemplo de decisión simple\n",
        "umbral = 0.95\n",
        "if similarity >= umbral:\n",
        "    print(\"✅ Caja correcta (similar a Golden Sample)\")\n",
        "else:\n",
        "    print(\"❌ Posible error visual en el packaging\")"
      ],
      "metadata": {
        "colab": {
          "base_uri": "https://localhost:8080/"
        },
        "id": "gYl3O7xpAn5N",
        "outputId": "2d9355ae-c09f-41f7-ec6f-32413aaf4cf7"
      },
      "execution_count": 5,
      "outputs": [
        {
          "output_type": "stream",
          "name": "stdout",
          "text": [
            "Similitud coseno: 0.9728\n",
            "✅ Caja correcta (similar a Golden Sample)\n"
          ]
        }
      ]
    }
  ]
}